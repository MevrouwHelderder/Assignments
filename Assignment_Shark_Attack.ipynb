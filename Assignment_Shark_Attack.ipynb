{
  "nbformat": 4,
  "nbformat_minor": 0,
  "metadata": {
    "colab": {
      "provenance": [],
      "mount_file_id": "1qZMXOF2HeaNzOgS0Q_R7qr8VoCRe8Xc6",
      "authorship_tag": "ABX9TyMkd+l81np8Es0iLc4cqZLF",
      "include_colab_link": true
    },
    "kernelspec": {
      "name": "python3",
      "display_name": "Python 3"
    },
    "language_info": {
      "name": "python"
    }
  },
  "cells": [
    {
      "cell_type": "markdown",
      "metadata": {
        "id": "view-in-github",
        "colab_type": "text"
      },
      "source": [
        "<a href=\"https://colab.research.google.com/github/MevrouwHelderder/Assignments/blob/main/Assignment_Shark_Attack.ipynb\" target=\"_parent\"><img src=\"https://colab.research.google.com/assets/colab-badge.svg\" alt=\"Open In Colab\"/></a>"
      ]
    },
    {
      "cell_type": "markdown",
      "source": [
        "# Assignment: \n",
        "Take [this dataset](https://www.kaggle.com/felipeesc/shark-attack-dataset). Use all the skills you've learned up until now to answer the following questions as well as possible. \n",
        "\n",
        "* What are the most dangerous types of sharks to humans? \n",
        "* Are children more likely to be attacked by sharks? \n",
        "* Are shark attacks where sharks were provoked more or less dangerous? \n",
        "* Are certain activities more likely to result in a shark attack? \n",
        "\n",
        "If you feel you can't answer a question based on the dataset alone, feel free to find other datasets and use them in answering the questions.\n",
        "\n",
        "For each answer you give not only answer the question but also write about the assumptions you made in answering the question. If an assumption or decision possibly created a bias please write about this as well."
      ],
      "metadata": {
        "id": "rYniUnKlOlRA"
      }
    },
    {
      "cell_type": "markdown",
      "source": [
        "# The essentials"
      ],
      "metadata": {
        "id": "J8J2-MsJkw1-"
      }
    },
    {
      "cell_type": "code",
      "source": [
        "# Importing the essentials\n",
        "import numpy as np\n",
        "import pandas as pd\n",
        "import matplotlib.pyplot as plt\n",
        "import re\n",
        "\n",
        "%load_ext google.colab.data_table"
      ],
      "metadata": {
        "id": "-GTLoS1qovCO"
      },
      "execution_count": null,
      "outputs": []
    },
    {
      "cell_type": "code",
      "source": [
        "# importing the dataframe\n",
        "path = \"/content/drive/MyDrive/attacks.csv\"\n",
        "df = pd.read_csv(path, encoding=\"ISO-8859-1\")"
      ],
      "metadata": {
        "id": "Z382FOCyiBts"
      },
      "execution_count": 59,
      "outputs": []
    },
    {
      "cell_type": "code",
      "source": [
        "# Making a copy so to not change the original dataset while modifying the shape\n",
        "attacks_shape = df.copy(deep=True)"
      ],
      "metadata": {
        "id": "XqiqhjQkiEXk"
      },
      "execution_count": 60,
      "outputs": []
    },
    {
      "cell_type": "markdown",
      "source": [
        "# Preparing the basics of the dataframe"
      ],
      "metadata": {
        "id": "tAjGMfdlfOeY"
      }
    },
    {
      "cell_type": "code",
      "source": [
        "# Dropping columns.\n",
        "attacks_shape = attacks_shape.drop(\n",
        "    columns=[\n",
        "        \"Case Number\",\n",
        "        \"Date\",\n",
        "        \"Time\",\n",
        "        \"Year\",\n",
        "        \"Country\",\n",
        "        \"Case Number\",\n",
        "        \"Location\",\n",
        "        \"Name\",\n",
        "        \"Investigator or Source\",\n",
        "        \"pdf\",\n",
        "        \"href formula\",\n",
        "        \"Area\",\n",
        "        \"href\",\n",
        "        \"Sex \",\n",
        "        \"Case Number.1\",\n",
        "        \"Case Number.2\",\n",
        "        \"original order\",\n",
        "        \"Unnamed: 22\",\n",
        "        \"Unnamed: 23\",\n",
        "    ]\n",
        ")"
      ],
      "metadata": {
        "id": "XxTBGFz5nSMI"
      },
      "execution_count": 61,
      "outputs": []
    },
    {
      "cell_type": "code",
      "source": [
        "#Checking on the names of the column\n",
        "list(attacks_shape)\n",
        "\n",
        "# Renaming columns.\n",
        "attacks_shape = attacks_shape.rename(\n",
        "    columns={\"Fatal (Y/N)\": \"Outcome\", \"Species \": \"Species\"})"
      ],
      "metadata": {
        "id": "1yraOuRZlBW6"
      },
      "execution_count": 62,
      "outputs": []
    },
    {
      "cell_type": "code",
      "source": [
        "# Dropping rows that have a null value on all columns except for the column \"Case\".\n",
        "# Having only a casenumber made them useless by default.\n",
        "#\n",
        "# Making a copy to prevent view vs copy issues later on \n",
        "\n",
        "\n",
        "relevant_columns = list(attacks_shape.columns[1:])\n",
        "attacks_shape = attacks_shape.dropna(subset=relevant_columns, how=\"all\").copy(deep=True)\n"
      ],
      "metadata": {
        "id": "y2bkal0rlJ29"
      },
      "execution_count": 63,
      "outputs": []
    },
    {
      "cell_type": "markdown",
      "source": [
        "# Helpers\n",
        "Some broader functions I used during the process"
      ],
      "metadata": {
        "id": "KVP2cpoOiqWC"
      }
    },
    {
      "cell_type": "code",
      "source": [
        "# Function to change values based on a non-nested dictionary\n",
        "# ⚠️ Mutates df\n",
        "def replace_multi(df, col, dict):\n",
        "    df[col] = df[col].replace(dict)\n",
        "    \n",
        "# Function to replace a single values with another single value.\n",
        "# ⚠️ Mutates df\n",
        "def replace_one(df, col, old_value, new_value):\n",
        "  df[col] = df[col].replace({old_value : new_value})\n",
        "\n",
        "# Function to replace multiple values with one value\n",
        "# ⚠️ Mutates df\n",
        "def replace_multi_to_one(df, col, old_list, new_value):\n",
        "  df[col] = df[col].replace(dict.fromkeys(old_list, new_value))\n",
        "\n",
        "# Function to replace using regular expressions\n",
        "# ⚠️ Mutates df\n",
        "def replace_regex(df, col, old_value, new_value):\n",
        "  df[col] = df[col].str.replace(old_value, new_value, regex=True)\n"
      ],
      "metadata": {
        "id": "jiguNn5rCwqE"
      },
      "execution_count": 65,
      "outputs": []
    },
    {
      "cell_type": "code",
      "source": [
        "# Function to compare two columns to see how they match in shape:\n",
        "\n",
        "def compare_columns(df, col_1, col_2):\n",
        "  col_1_count = df[col_1].notnull().sum()\n",
        "  col_both_count = (df[col_1].notnull() & df[col_2].notnull()).sum()\n",
        "  difference = col_1_count - col_both_count\n",
        "  print (f\"The amount of rows with a confirmed value in column {col_1} is: {col_1_count}\")\n",
        "  print (f\"The amount of rows with a confirmed value in both column {col_1} and {col_2} is:  {col_both_count}\")\n",
        "  if difference <0:\n",
        "    print (f\"There are {difference} rows where the {col_2} is confirmed but {col_1} is not \")\n",
        "  elif difference >= 0:\n",
        "    print (f\"There are {difference} rows where the {col_1} is confirmed but {col_2} is not \") "
      ],
      "metadata": {
        "id": "_7LVhxdNwIit"
      },
      "execution_count": 66,
      "outputs": []
    },
    {
      "cell_type": "markdown",
      "source": [
        "\n",
        "The functions below are not my own: we used them in an earlier exercise.\n",
        "\n",
        "However, they are useful and it felt dumb to needlessly change them up to pretend that they were my own.\n",
        "\n",
        "So credit where credit is due, thanks Winc!"
      ],
      "metadata": {
        "id": "eUC85NEv7iae"
      }
    },
    {
      "cell_type": "code",
      "source": [
        "# Functions to help finding non-default missing values:\n",
        "\n",
        "# Preparing the functions for locating and adjusting the missing values.\n",
        "def print_separator(sep, num, msg):\n",
        "    print(\"\\n\")\n",
        "    print(sep * num)\n",
        "    print(f\"{msg}\")\n",
        "    print(sep * num)\n",
        "\n",
        "# TACTIC A: find unique values\n",
        "def look_at_unique_values(column):\n",
        "    unique_values_cutoff = 50\n",
        "    unique_values = column.unique()\n",
        "    num_unique_values = len(unique_values)\n",
        "    if num_unique_values == len(column):\n",
        "        print(f\"Each value in the column is unique (total: {num_unique_values})\")\n",
        "    elif num_unique_values < unique_values_cutoff:\n",
        "        print(f\"Less than {unique_values_cutoff} unique values:\")\n",
        "        try:\n",
        "            sorted = np.sort(unique_values)\n",
        "            print(\"Values are sorted\")\n",
        "            display(list(sorted))\n",
        "        except:\n",
        "            print(\"Could not sort values\")\n",
        "            display(list(unique_values))\n",
        "    else:\n",
        "        print(\n",
        "            f\"More than {unique_values_cutoff} unique values (total: {num_unique_values})\"\n",
        "        )\n",
        "\n",
        "# TACTIC B: look at the edges\n",
        "def look_at_edges(df, column_name):\n",
        "    # inner function\n",
        "    def show_head_and_tail(values):\n",
        "        num_items_to_slice = 10\n",
        "        display(list(values)[:num_items_to_slice])\n",
        "        display(list(values)[-num_items_to_slice:])\n",
        "\n",
        "    column = df[column_name]\n",
        "    unique_values = column.unique()\n",
        "    try:\n",
        "        sorted = np.sort(unique_values)\n",
        "        print(\"Unique values sorted, head and tail:\")\n",
        "        show_head_and_tail(sorted)\n",
        "    except TypeError as error:\n",
        "        print(f\"Could not sort values: {error}\")\n",
        "        print(\"..so let's try filtering NULL values and then sorting\")\n",
        "        print(\"..there could be a black sheep in the null values\")\n",
        "        non_null_uniques = df.loc[~df[column_name].isnull(), column_name].unique()\n",
        "        sorted = np.sort(non_null_uniques)\n",
        "        show_head_and_tail(sorted)\n",
        "\n",
        "# TACTIC C: casting to a type to see if all the values match the needed type\n",
        "def cast_to_type(column, maybe_type):\n",
        "    try:\n",
        "        column.astype(maybe_type)\n",
        "        print(f\"Casting to {maybe_type} was successful\")\n",
        "    except ValueError as error:\n",
        "        print(f\"Could not cast to {maybe_type}: {error}\")\n",
        "\n",
        "# TACTIC D: display the value count of the column\n",
        "def value_count(column):\n",
        "    display(column.value_counts(dropna=False))\n",
        "\n",
        "# FUNCTION TO CHECK THE DATAFRAME FOR ALL FOUR TACTICS\n",
        "def find_non_default_missing_values(df, column_name, maybe_type):\n",
        "    long_separator_amount = 80\n",
        "    short_separator_amount = 40\n",
        "    # Print the header\n",
        "    print_separator(\n",
        "        \"*\",\n",
        "        long_separator_amount,\n",
        "        f'Finding non default missing values for column \"{column_name}\"',\n",
        "    )\n",
        "    print(f'Column \"{column_name}\" has datatype: {df.dtypes[column_name]}')\n",
        "    column = df[column_name]\n",
        "    # A\n",
        "    print_separator(\"-\", short_separator_amount, \"A: Looking at unique values\")\n",
        "    look_at_unique_values(column)\n",
        "    # B\n",
        "    print_separator(\"-\", short_separator_amount, \"B: Sorting and looking at the edges\")\n",
        "    look_at_edges(df, column_name)\n",
        "    # C\n",
        "    print_separator(\"-\", short_separator_amount, f\"C: Casting to type: {maybe_type}\")\n",
        "    cast_to_type(column, maybe_type)\n",
        "    # D\n",
        "    print_separator(\n",
        "        \"-\",\n",
        "        short_separator_amount,\n",
        "        \"D: Looking at frequency\\nAll default-NULL values will be bunched together as NaN\",\n",
        "    )\n",
        "    value_count(column)\n",
        "    print(\"\\n\")\n",
        "\n",
        "# Function to display the default NULL values in the column.\n",
        "def display_default_null_values(df, column_name):\n",
        "    nulls = df.loc[df[column_name].isnull()]\n",
        "    print(f'Number of default null values in \"{column_name}\": {len(nulls)}')\n",
        "\n",
        "# Easier to type\n",
        "nat = np.datetime64(\"nat\")"
      ],
      "metadata": {
        "id": "ltB1M1HWb8NX"
      },
      "execution_count": 64,
      "outputs": []
    },
    {
      "cell_type": "markdown",
      "source": [
        "# Cleaning up the columns\n",
        "Goal: keep only the data needed.\n",
        "\n",
        "I do apologise beforehand. I suspect on some columns I did more than needed for this assignment, especially when cleaning up/sorting out the last crumbs. \n",
        "\n",
        "I realise they probably have no significant influance and that when time and or money are an issue they probably should have been left as they were or even thrown out, depending on the goal.\n",
        "But I simply had a blast and it tought me so many new skills that I took the opportunity to learn by doing.\n",
        "\n",
        "I might also have used one tactic on a column but another on a different column. In between working on the different columns I learned a lot and I also experimented to see what worked better.\n",
        "\n",
        "And lastly: I realise I have written some functions that could perhaps be combined. However, for now I prefer to leave them since they show the steps I took while cleaning up."
      ],
      "metadata": {
        "id": "dvWT6bteqrWR"
      }
    },
    {
      "cell_type": "code",
      "source": [
        "# Making a copy to work on, to keep track of the changes\n",
        "attacks_clean = attacks_shape.copy(deep=True)"
      ],
      "metadata": {
        "id": "AgXy19Smvkgr"
      },
      "execution_count": 67,
      "outputs": []
    },
    {
      "cell_type": "code",
      "source": [
        "# Lowercase all strings and strip whitespace and/or quotationmarks around strings\n",
        "attacks_clean = attacks_clean.applymap(lambda x: x.lower() if isinstance(x, str) else x)\n",
        "attacks_clean = attacks_clean.applymap(lambda x: x.strip('\" ') if isinstance(x, str) else x)"
      ],
      "metadata": {
        "id": "q6wpGh14msg3"
      },
      "execution_count": 68,
      "outputs": []
    },
    {
      "cell_type": "markdown",
      "source": [
        "# Column: Species"
      ],
      "metadata": {
        "id": "WxHdZoHMGxbr"
      }
    },
    {
      "cell_type": "code",
      "source": [
        "# Checking how everything looks and what stands out: \n",
        "# find_non_default_missing_values(attacks_clean, 'Species', 'string')"
      ],
      "metadata": {
        "id": "0frwgvbnts42"
      },
      "execution_count": 69,
      "outputs": []
    },
    {
      "cell_type": "code",
      "source": [
        "# Extract the species from the string where possible\n",
        "\n",
        "# if any for of null: change to None\n",
        "# if empty after stripping whitespace: change to None\n",
        "# if the word shark is there: return that plus the word before \"shark\"\n",
        "# else: return the original plus \"check: \"\n",
        "\n",
        "def tidy(x):                                \n",
        "    if pd.isna(x):                                    \n",
        "        return None\n",
        "    elif len(x.strip()) == 0:                         \n",
        "        return None\n",
        "    elif \"shark\" in x:                                \n",
        "        return re.search(r\"(\\S+\\s*)?shark\", x).group()\n",
        "    else:\n",
        "        return f\"check: {x}\"                          \n",
        "\n",
        "\n",
        "attacks_clean[\"Species\"] = attacks_clean[\"Species\"].apply(tidy)"
      ],
      "metadata": {
        "id": "58sKwZAht08K"
      },
      "execution_count": 70,
      "outputs": []
    },
    {
      "cell_type": "code",
      "source": [
        "# Things we can now safely change to \"unconfirmed\"\n",
        "# Values that mention certain words.\n",
        "# Values that mention no species but mention measurements like 20\"] \n",
        "\n",
        "no_species = [\n",
        "    \"invalid\",\n",
        "    \"unidentified\",\n",
        "    \"questionable\",\n",
        "    \"possibly\",\n",
        "    \"not confirmed\",\n",
        "    \"unconfirmed\",\n",
        "    \"doubtful\",\n",
        "    \"captive\",\n",
        "    \"unknown\",\n",
        "    \"several\",\n",
        "    \"colored\",\n",
        "    \"large shark\",\n",
        "    \"female shark\",\n",
        "    \"grey shark\",\n",
        "    \"two shark\",\n",
        "    \"the shark\",\n",
        "    \"from shark\",\n",
        "    \"little shark\",\n",
        "    \"larger shark\",\n",
        "    \"red shark\",\n",
        "    \"young shark\",\n",
        "    \"for shark\",\n",
        "    \"metre shark\",\n",
        "    \"juvenile shark\",\n",
        "    \"gray shark\",\n",
        "    \"finned shark\",\n",
        "    \"small shark\"\n",
        "]\n",
        "\n",
        "# one or more digits followed by ' or \" followed by\n",
        "# zero or more ] followed by shark, whitespaces optional\n",
        "inches = r'\\d+\\s*([\"\\']{1,})\\s*\\]*\\s*shark'\n",
        "\n",
        "# string containing two or less letters or digits or -\n",
        "# followed by shark, whitespaces optional\n",
        "small_string = r\"^[a-z0-9-]{0,2}\\s*shark$\"\n",
        "\n",
        "# lb or kg or foot followed by zero or more ] followed by shark, whitespaces optional\n",
        "measurements = r\"(kg|lb|foot)\\s*\\]*\\s*shark\"\n",
        "\n",
        "\n",
        "def tidy_more(x):\n",
        "    if x is not None and (\n",
        "        any(word in x for word in no_species)\n",
        "        or re.search(inches, x)\n",
        "        or re.search(small_string, x)\n",
        "        or re.search(measurements, x)\n",
        "    ):\n",
        "        return \"unconfirmed\"\n",
        "    else:\n",
        "        return x\n",
        "\n",
        "\n",
        "attacks_clean[\"Species\"] = attacks_clean[\"Species\"].apply(tidy_more)"
      ],
      "metadata": {
        "id": "I7u0PBpnw4Om"
      },
      "execution_count": 71,
      "outputs": []
    },
    {
      "cell_type": "code",
      "source": [
        "# removing quotation marks and this weird little fellas that look the same but are different:  \n",
        "def remove_weirdos(x):\n",
        "    if x is None:\n",
        "        return None\n",
        "    else:\n",
        "        return re.sub(r'[\"]+', \"\", x)\n",
        "\n",
        "attacks_clean[\"Species\"] = attacks_clean[\"Species\"].apply(remove_weirdos)"
      ],
      "metadata": {
        "id": "8GTgf5cVw8yx"
      },
      "execution_count": 72,
      "outputs": []
    },
    {
      "cell_type": "code",
      "source": [
        "# Checking all values that I previously marked as 'check'\n",
        "mask_species = attacks_clean[\"Species\"].str.contains(\"check\", na=False)\n",
        "attacks_clean[mask_species]\n",
        "\n",
        "# Changing to the right species where possible\n",
        "correct_species = [\n",
        "    \"blue pointer\",\n",
        "    \"wobbegong\",\n",
        "    \"whaler\",\n",
        "    \"hammerhead\",\n",
        "    \"porbeagle\",\n",
        "    \"whitetip\",\n",
        "    \"horn\",\n",
        "]\n",
        "\n",
        "def correct_checks(x):\n",
        "    if x is not None and (\"check\" in x):\n",
        "        for word in correct_species:\n",
        "            if word in x:\n",
        "                return f\"{word} shark\"\n",
        "        else:\n",
        "            return \"unconfirmed\"\n",
        "    else:\n",
        "        return x\n",
        "\n",
        "attacks_clean[\"Species\"] = attacks_clean[\"Species\"].apply(lambda x: correct_checks(x))\n"
      ],
      "metadata": {
        "id": "jCPAX9RpxTXI"
      },
      "execution_count": 73,
      "outputs": []
    },
    {
      "cell_type": "code",
      "source": [
        "# Checking last crumbs to clean up:\n",
        "# Replace a few different writings of the same species\n",
        "\n",
        "replacing = {\"seven-gill shark\": \"sevengill shark\",\n",
        "        \"7-gill shark\": \"sevengill shark\",\n",
        "        \"sevengill  shark\": \"sevengill shark\",\n",
        "        \"black-tipped shark\": \"blacktip shark\",\n",
        "        \"blacktip  shark\": \"blacktip shark\",\n",
        "        \"sand shark\": \"sandshark\",\n",
        "        \"zambesi shark\": \"zambezi shark\"}\n",
        "\n",
        "replace_multi(attacks_clean, \"Species\", replacing)"
      ],
      "metadata": {
        "id": "vPU6Sx3Pho0h"
      },
      "execution_count": 74,
      "outputs": []
    },
    {
      "cell_type": "code",
      "source": [
        "# attacks_clean[\"Species\"].value_counts().head(50)\n",
        "# attacks_clean[\"Species\"].value_counts().tail(50)"
      ],
      "metadata": {
        "id": "B2DZvmFR3y83"
      },
      "execution_count": 75,
      "outputs": []
    },
    {
      "cell_type": "code",
      "source": [
        "# Added later: \n",
        "# change everything unconfirmed to None.\n",
        "# For our questions it makes it cleaner to work with.\n",
        "\n",
        "replace_one(attacks_clean, \"Species\", \"unconfirmed\", None)"
      ],
      "metadata": {
        "id": "hHvCd1JZNaad"
      },
      "execution_count": 76,
      "outputs": []
    },
    {
      "cell_type": "markdown",
      "source": [
        "# Column: Type"
      ],
      "metadata": {
        "id": "zSFES5JHcf8J"
      }
    },
    {
      "cell_type": "code",
      "source": [
        "# Checking how everything looks and what stands out: \n",
        "# find_non_default_missing_values(attacks_clean, \"Type\", \"string\")"
      ],
      "metadata": {
        "id": "gK24EjdGdR5J"
      },
      "execution_count": 77,
      "outputs": []
    },
    {
      "cell_type": "code",
      "source": [
        "# After working on the questions I realised I could safely change some values to None: \n",
        "replace_list = [\"boating\", \"boatomg\", \"boat\", \"sea disaster\", \"invalid\", \"questionable\", np.nan ]\n",
        "replace_multi_to_one(attacks_clean, \"Type\", replace_list, None)"
      ],
      "metadata": {
        "id": "Fz66bimQw3LW"
      },
      "execution_count": 78,
      "outputs": []
    },
    {
      "cell_type": "code",
      "source": [
        "# attacks_clean[\"Type\"].value_counts().head(50)\n",
        "# attacks_clean[\"Type\"].value_counts().tail(50)"
      ],
      "metadata": {
        "id": "gqdPqJ2U5U4m"
      },
      "execution_count": 79,
      "outputs": []
    },
    {
      "cell_type": "markdown",
      "source": [
        "# Column: Activity"
      ],
      "metadata": {
        "id": "I_2SWnDVdbVf"
      }
    },
    {
      "cell_type": "code",
      "source": [
        "# Checking how everything looks and what stands out: \n",
        "# find_non_default_missing_values(attacks_clean, \"Activity\", \"string\")"
      ],
      "metadata": {
        "id": "_vAoonOA4paU"
      },
      "execution_count": 80,
      "outputs": []
    },
    {
      "cell_type": "code",
      "source": [
        "# Replacing the null values\n",
        "replace_activity = {\".\": None, np.nan: None}\n",
        "replace_multi(attacks_clean, \"Activity\", replace_activity)\n",
        "\n",
        "# Boarding seems to be a substantial part. Combining different spellings of the same value\n",
        "boarding = [\"boogie boarding\", \"paddle boarding\", \"body-boarding\", \"body boarding\", \"paddle-boarding\"]\n",
        "replace_multi_to_one(attacks_clean, \"Activity\", boarding, \"bodyboarding\")"
      ],
      "metadata": {
        "id": "CoTqN_jL4pIU"
      },
      "execution_count": 81,
      "outputs": []
    },
    {
      "cell_type": "code",
      "source": [
        "# Taking the top 60 values as categories and dividing the other values, where possible,\n",
        "# into those categories.\n",
        "\n",
        "top_activities = list(attacks_clean[\"Activity\"].value_counts().head(60).index)\n",
        "\n",
        "def activities_checks(x):\n",
        "    if x is not None:\n",
        "      for word in top_activities:\n",
        "          if word in x:\n",
        "              return word\n",
        "      else:\n",
        "          return x\n",
        "\n",
        "attacks_clean[\"Activity\"] = attacks_clean[\"Activity\"].apply(lambda x: activities_checks(x))"
      ],
      "metadata": {
        "id": "YAq5pTNCFqnh"
      },
      "execution_count": 82,
      "outputs": []
    },
    {
      "cell_type": "code",
      "source": [
        "# attacks_clean[\"Activity\"].value_counts().head(50)\n",
        "# attacks_clean[\"Activity\"].value_counts().tail(50)"
      ],
      "metadata": {
        "id": "1GBePQRw5ZXL"
      },
      "execution_count": 83,
      "outputs": []
    },
    {
      "cell_type": "markdown",
      "source": [
        "# Column: Outcome"
      ],
      "metadata": {
        "id": "KxO2VYB3WrmW"
      }
    },
    {
      "cell_type": "code",
      "source": [
        "# Checking how everything looks and what stands out: \n",
        "# find_non_default_missing_values(attacks_clean, \"Outcome\", \"string\")"
      ],
      "metadata": {
        "id": "41gYfcaZEz1e"
      },
      "execution_count": 84,
      "outputs": []
    },
    {
      "cell_type": "code",
      "source": [
        "# Changing values to corresponding categories\n",
        "replace_outcome = {\"n\" : \"nonfatal\", \"y\" : \"fatal\", \"m\" : \"unconfirmed\", \"2017\": \"unconfirmed\", \"unknown\": \"unconfirmed\", np.nan : None}\n",
        "replace_multi(attacks_clean, \"Outcome\", replace_outcome)"
      ],
      "metadata": {
        "id": "w9KUsW7PLiHC"
      },
      "execution_count": 85,
      "outputs": []
    },
    {
      "cell_type": "code",
      "source": [
        "# attacks_clean[\"Outcome\"].value_counts().head(50)\n",
        "# attacks_clean[\"Outcome\"].value_counts().tail(50)"
      ],
      "metadata": {
        "id": "Lq3SlTwXEsjc"
      },
      "execution_count": 86,
      "outputs": []
    },
    {
      "cell_type": "code",
      "source": [
        "# Added later: \n",
        "# change everything unconfirmed to None.\n",
        "# For our questions it makes it cleaner to work with.\n",
        "\n",
        "replace_one(attacks_clean, \"Outcome\", \"unconfirmed\", None)"
      ],
      "metadata": {
        "id": "q1QXul1jOCJo"
      },
      "execution_count": 87,
      "outputs": []
    },
    {
      "cell_type": "markdown",
      "source": [
        "# Column: Age"
      ],
      "metadata": {
        "id": "lneg2rTgbqew"
      }
    },
    {
      "cell_type": "code",
      "source": [
        "# Checking how everything looks and what stands out: \n",
        "# find_non_default_missing_values(attacks_clean, \"Age\", \"string\")"
      ],
      "metadata": {
        "id": "AKA3HnJuE3_C"
      },
      "execution_count": 88,
      "outputs": []
    },
    {
      "cell_type": "code",
      "source": [
        "# change NaN to None\n",
        "replace_age= {np.nan : None, \"\": None}\n",
        "replace_multi(attacks_clean, \"Age\", replace_age)"
      ],
      "metadata": {
        "id": "ZVSpylNhE75_"
      },
      "execution_count": 89,
      "outputs": []
    },
    {
      "cell_type": "code",
      "source": [
        "# convert non-null values to string\n",
        "non_null = attacks_clean[\"Age\"].notnull()\n",
        "attacks_clean.loc[non_null, \"Age\"] = attacks_clean.loc[non_null, \"Age\"].astype(str)"
      ],
      "metadata": {
        "id": "hfARhA87FKOD"
      },
      "execution_count": 90,
      "outputs": []
    },
    {
      "cell_type": "code",
      "source": [
        "# Sorting into age groups, creating a new column for this\n",
        "\n",
        "# Sorting ages by range\n",
        "child = [str(i) for i in range(0, 13)]\n",
        "adolescent = [str(i) for i in range(13, 18)]\n",
        "adult = [str(i) for i in range(18, 130)]\n",
        "\n",
        "# Sorting all the values that describe the age in words\n",
        "child_words = [\"child\", \"2 to 3 months\", \"9 months\", \"18 months\", \"2½\", \"both 11\", \"6½\"]\n",
        "adolescent_words = [\"teen\", \"teens\"]\n",
        "adult_words = [\"adult\" , \"middle-age\", \"(adult)\", \"20s\", \"30s\", \"40s\", \"50s\", \"elderly\", \"60's\", \"60s\", \"mid-20s\", \"mid-30s\", \"ca. 33\"]\n",
        "\n",
        "# tackling values that mention multiple ages by splitting into seperate ages\n",
        "# and sorting into the right group but only if all ages belong to the same group \n",
        "def age_groups(age):\n",
        "    if age is None:\n",
        "        return age\n",
        "    else:\n",
        "        age_list = re.split(r'[,&\\s?]|(?:\\s*(?:to|or)\\s*)', age) \n",
        "        age_list = list(filter(None, age_list))  \n",
        "        if all(word in child for word in age_list) or age in child_words:\n",
        "            return \"child\"\n",
        "        elif all(word in adolescent for word in age_list) or age in adolescent_words:\n",
        "            return \"adolescent\"\n",
        "        elif all(word in adult for word in age_list) or age in adult_words:\n",
        "            return \"adult\"\n",
        "        else:\n",
        "            return None\n",
        "\n",
        "attacks_clean.insert(3, \"Age_group\", attacks_clean[\"Age\"].apply(age_groups))"
      ],
      "metadata": {
        "id": "m9laS1eeJ-jN"
      },
      "execution_count": 91,
      "outputs": []
    },
    {
      "cell_type": "code",
      "source": [
        "# Dropping column age.\n",
        "attacks_clean = attacks_clean.drop(\n",
        "    columns=[\n",
        "        \"Age\"])"
      ],
      "metadata": {
        "id": "xX6yO9pF8xcK"
      },
      "execution_count": 115,
      "outputs": []
    },
    {
      "cell_type": "markdown",
      "source": [
        "# Column: Injury\n",
        "\n",
        "I noticed a lot of injuries were the same but with different spellings.\n",
        "I sorted them into broader groups.\n",
        "\n",
        "It could have been sorted even more but I found this to be a good medium."
      ],
      "metadata": {
        "id": "5hqIPB3DGI1Q"
      }
    },
    {
      "cell_type": "code",
      "source": [
        "# Checking how everything looks and what stands out: \n",
        "# find_non_default_missing_values(attacks_clean, \"Injury\", \"string\")"
      ],
      "metadata": {
        "id": "ixTZg9iZFzv-"
      },
      "execution_count": 116,
      "outputs": []
    },
    {
      "cell_type": "code",
      "source": [
        "# change NaN to None\n",
        "replace_injury= {np.nan : None, \"\": None}\n",
        "replace_multi(attacks_clean, \"Injury\", replace_injury)"
      ],
      "metadata": {
        "id": "3LClGYH5FzoQ"
      },
      "execution_count": 117,
      "outputs": []
    },
    {
      "cell_type": "code",
      "source": [
        "# Removing some words for better sorting, stripping whitespace\n",
        "removable = r\"\\bleft\\b|\\bright\\b|\\bminor\\b|\\bsevere\\b|\\blower\\b|\\bto dorsum of\\b|\\bsmall\\b\"\n",
        "replace_regex(attacks_clean, \"Injury\", removable, \"no injury\")\n",
        "# stripping whitespace\n",
        "attacks_clean[\"Injury\"] = attacks_clean[\"Injury\"].str.strip()\n",
        "\n",
        "# Correcting some words for better sorting\n",
        "replace_one(attacks_clean, \"Injury\", \"injury\", \"injuries\")\n",
        "\n",
        "# Replace values that contain \"fatal\" with just \"fatal\"\n",
        "replace_regex(attacks_clean, \"Injury\", r\".*\\bfatal\\b.*\", \"fatal\")\n",
        "\n",
        "# Replace values that contain \"no injury\" with just \"no injury\"\n",
        "replace_regex(attacks_clean, \"Injury\", r\".*\\bno injury\\b.*\", \"no injury\")"
      ],
      "metadata": {
        "id": "HzzsMjGdFzgy"
      },
      "execution_count": 118,
      "outputs": []
    },
    {
      "cell_type": "code",
      "source": [
        "# Combining laceration/lacerated/etc.\n",
        "\n",
        "# Replace \"laceration\" with \"lacerations\"\n",
        "replace_regex(attacks_clean, \"Injury\", r\"\\blaceration\\b\", \"lacerations\")\n",
        "# Replace \"lacerated\" with \"lacerations\"\n",
        "replace_regex(attacks_clean, \"Injury\", r\"\\blacerated\\b\", \"lacerations\")\n",
        "\n",
        "# If \"lacerations\" is present: place it at the front of the string\n",
        "def move_lacerations_to_front(injury):\n",
        "    if injury is None:\n",
        "        return injury\n",
        "    else: \n",
        "      if \"lacerations\" in injury:\n",
        "         return \"lacerations \" + injury.replace(\"lacerations\", \"\").strip()\n",
        "      else:\n",
        "         return injury.strip()\n",
        "\n",
        "# Apply the function to the \"Injury_2\" column\n",
        "attacks_clean[\"Injury\"] = attacks_clean[\"Injury\"].apply(move_lacerations_to_front)"
      ],
      "metadata": {
        "id": "6JaeiF3WI3_A"
      },
      "execution_count": 119,
      "outputs": []
    },
    {
      "cell_type": "code",
      "source": [
        "# Combining injured/injury/etc.\n",
        "\n",
        "# Replace \"injuries\" with \"injury\"\n",
        "replace_regex(attacks_clean, \"Injury\", r\"\\binjuries\\b\", \"injury\")\n",
        "# Replace \"injured\" with \"injury to\"\n",
        "replace_regex(attacks_clean, \"Injury\", r\"\\binjured\\b\", \"injury to\")\n",
        "\n",
        "# If \"injury to\" is present: place it at the front of the string\n",
        "def move_injury_to_front(injury):\n",
        "    if injury is None:\n",
        "        return injury\n",
        "    else: \n",
        "      if \"injury to\" in injury:\n",
        "         return \"injury to \" + injury.replace(\"injury to\", \"\").strip()\n",
        "      else:\n",
        "         return injury.strip()\n",
        "\n",
        "# Apply the function to the \"Injury_2\" column\n",
        "attacks_clean[\"Injury\"] = attacks_clean[\"Injury\"].apply(move_injury_to_front)"
      ],
      "metadata": {
        "id": "O1z7Ltmof2C7"
      },
      "execution_count": 120,
      "outputs": []
    },
    {
      "cell_type": "code",
      "source": [
        "# Remove double whitespaces\n",
        "replace_regex(attacks_clean, \"Injury\", r\"\\s{2,}\", \" \")"
      ],
      "metadata": {
        "id": "GgcDlPL-JvS7"
      },
      "execution_count": 121,
      "outputs": []
    },
    {
      "cell_type": "code",
      "source": [
        "# Checking how it looks now: \n",
        "# attacks_clean[\"Injury\"].value_counts().head(20)\n",
        "# attacks_clean[\"Injury\"].value_counts().tail(20)"
      ],
      "metadata": {
        "id": "5mCtI948J6hP"
      },
      "execution_count": 122,
      "outputs": []
    },
    {
      "cell_type": "markdown",
      "source": [
        "# On to the questions!\n"
      ],
      "metadata": {
        "id": "kcLrZONbrXbk"
      }
    },
    {
      "cell_type": "code",
      "source": [
        "# Making a copy to prevent messing up earlier steps: \n",
        "shark_attacks = attacks_clean.copy(deep=True)"
      ],
      "metadata": {
        "id": "76BtjVrmrwz3"
      },
      "execution_count": 123,
      "outputs": []
    },
    {
      "cell_type": "markdown",
      "source": [
        "# Question 1: What are the most dangerous types of sharks to humans?\n",
        "**Thoughts**: You could think it is as simply the species that has the highest count of attacks.\n",
        "\n",
        "**But**: what is the definition of \"most dangerous\"? \n",
        "\n",
        "Is a species that has a lot of non-fatal attacks more dangerous than a species that attacks less but whos attacks are often fatal?\n",
        "\n",
        "Let's look at the outcome of the attacks. \n",
        "Is there a correlation betweet the species that attack the most and the species that have the most fatal attacks?\n",
        "\n",
        "\n",
        "---\n",
        "\n"
      ],
      "metadata": {
        "id": "65d6brLQH7WD"
      }
    },
    {
      "cell_type": "markdown",
      "source": [
        "\n",
        "\n",
        "Before I do that I need to know if the groups of results where both the species AND the outcome is confirmed is big enough. \n",
        "To do that I will compare that group to the group where only the species is confirmed."
      ],
      "metadata": {
        "id": "4A87hXCbmPTM"
      }
    },
    {
      "cell_type": "code",
      "source": [
        "compare_columns(shark_attacks, \"Species\", \"Outcome\")"
      ],
      "metadata": {
        "colab": {
          "base_uri": "https://localhost:8080/"
        },
        "id": "otQYOuBRVXY-",
        "outputId": "7cb922c0-5c48-4c0a-a405-58ca70d91d9f"
      },
      "execution_count": 124,
      "outputs": [
        {
          "output_type": "stream",
          "name": "stdout",
          "text": [
            "The amount of rows with a confirmed value in column Species is: 1914\n",
            "The amount of rows with a confirmed value in both column Species and Outcome is:  1887\n",
            "There are 27 rows where the Species is confirmed but Outcome is not \n"
          ]
        }
      ]
    },
    {
      "cell_type": "markdown",
      "source": [
        "That is a really small difference.\n",
        "I feel confident that for this question I can work with only the attacks where both the species and the outcome are confirmed. \n",
        "\n",
        "\n",
        "---\n",
        "\n"
      ],
      "metadata": {
        "id": "no1fL0nQttZH"
      }
    },
    {
      "cell_type": "markdown",
      "source": [
        "# Visualising the attacks per species\n",
        "I want to not only show amount of attacks per species but also the percentage of the attacks that is fatal.\n",
        "\n",
        "However, there is no use to look at the fatality rate alone. A species that has only one record would get a 100% rate, for example. \n",
        "\n",
        "Therefore, I will use it together with the total attack count of the species that are in the top ten of species that have the most attacks on their names."
      ],
      "metadata": {
        "id": "h-DqckWp2wA7"
      }
    },
    {
      "cell_type": "code",
      "source": [
        "# Selecting only the rows where both species and outcome are confirmed: \n",
        "question_one_mask = (shark_attacks[\"Species\"].notnull()) & (shark_attacks[\"Outcome\"].notnull())\n",
        "question_one_df = shark_attacks[question_one_mask]"
      ],
      "metadata": {
        "id": "38Xbc-iQSq6m"
      },
      "execution_count": 125,
      "outputs": []
    },
    {
      "cell_type": "code",
      "source": [
        "# Top ten species when looking at total attacks\n",
        "total_species = question_one_df[\"Species\"].value_counts()\n",
        "top_total_species = total_species.sort_values(ascending=False).head(10)\n",
        "\n",
        "# Fatal attack count per species.\n",
        "fatal_species = question_one_df.loc[question_one_df[\"Outcome\"] == \"fatal\", \"Species\"].value_counts()\n",
        "\n",
        "# Fatality rate for each species.\n",
        "fatality_species = (fatal_species / total_species) * 100"
      ],
      "metadata": {
        "id": "pPSVHvD4EKga"
      },
      "execution_count": 126,
      "outputs": []
    },
    {
      "cell_type": "code",
      "source": [
        "# Create the figure and the plots\n",
        "fig, (ax1, ax2) = plt.subplots(1, 2, figsize=(14, 4))\n",
        "\n",
        "# X-axis both plots\n",
        "species = top_total_species.index\n",
        "\n",
        "# Y-axis total attacks\n",
        "total_bar = top_total_species\n",
        "# Y-axis fatality rate\n",
        "fatality_bar = fatality_species.loc[top_total_species.index] \n",
        "\n",
        "# Bars\n",
        "ax1.bar(species, total_bar, label=\"Total Attacks\")\n",
        "ax2.bar(species, fatality_bar, label=\"Fatality Rate\", color=\"C2\")\n",
        "\n",
        "# Set common cosmetics\n",
        "for ax in [ax1, ax2]:\n",
        "    ax.set_xlabel(\"Shark Species\")\n",
        "    ax.set_xticks(species)\n",
        "    ax.set_xticklabels(species, rotation=45, ha=\"right\")\n",
        "    ax.grid(axis=\"y\")\n",
        "    ax.legend()\n",
        "    \n",
        "# Set individual cosmetics\n",
        "ax1.set_ylabel(\"Number of Attacks\")\n",
        "ax1.set_title(\"Total Shark Attacks by Species\")\n",
        "ax2.set_ylabel(\"Fatality Rate (%)\")\n",
        "ax2.set_title(\"Fatality Rate by Species\")\n",
        "plt.subplots_adjust(wspace=0.2)\n",
        "\n",
        "plt.show()"
      ],
      "metadata": {
        "colab": {
          "base_uri": "https://localhost:8080/",
          "height": 502
        },
        "id": "icnyZr1hFnMU",
        "outputId": "56cbd2e1-a074-4706-c891-1b830ac500df"
      },
      "execution_count": 127,
      "outputs": [
        {
          "output_type": "display_data",
          "data": {
            "text/plain": [
              "<Figure size 1400x400 with 2 Axes>"
            ],
            "image/png": "[encoded data removed]"
          },
          "metadata": {}
        }
      ]
    },
    {
      "cell_type": "markdown",
      "source": [
        "# Conclusion: Interesting!\n",
        "\n",
        "We can see that the white shark is responsible for the most attacks in general and the most attacks with a deadly outcome. Almost twice as much in both categories than the species that comes second: the tiger shark.\n",
        "That is why I deem the white shark the species that is most dangerous to humans. \n",
        "\n",
        "However: we can see that the tiger shark has the highest fatality rate. Higher than the white shark. In other words: it attacks less but its attacks are more dangerous then the attacks of the white shark.\n",
        "\n",
        "So when it comes to answering the question \"What are the most dangerous types of sharks to humans?\" my answer is:\n",
        "\n",
        "\n",
        "The white shark. But if for some reason you are faced with two pools, one containing a white shark and one containing a tiger shark and you are forced to jump into one... You might want to consider joining the white shark and not the tiger shark ;-)\n",
        "\n",
        "\n",
        "---\n",
        "\n",
        "\n",
        "\n"
      ],
      "metadata": {
        "id": "jO2EZ6NZChOw"
      }
    },
    {
      "cell_type": "markdown",
      "source": [
        "# Question 2: Are children more likely to be attacked by sharks?\n",
        "\n",
        "For this I want to look at how the attacks are divided over the age groups.\n",
        "I have the following groups: adults, children, teens. "
      ],
      "metadata": {
        "id": "_cYi3uoc04P2"
      }
    },
    {
      "cell_type": "code",
      "source": [
        "# Create the figure and the plots\n",
        "fig, ax = plt.subplots(figsize=(6.2, 4))\n",
        "\n",
        "# Y-axis\n",
        "age_group = shark_attacks[\"Age_group\"].value_counts()\n",
        "adult_count = age_group[\"adult\"]\n",
        "adolescent_count = age_group[\"adolescent\"]\n",
        "child_count = age_group[\"child\"]\n",
        "\n",
        "# Bars where the bar for adolescent_count is placed on top on child_count\n",
        "ax.bar(0, adult_count, label=\"Adult (18+)\")\n",
        "ax.bar(1, child_count, label=\"Child (0-12)\")\n",
        "ax.bar(1, adolescent_count, bottom=child_count, label=\"Adolescent (13-17)\")\n",
        "\n",
        "# Set cosmetics\n",
        "ax.set_xticks([0, 1])\n",
        "ax.set_xticklabels([\"Adult\", \"Underaged\"])\n",
        "ax.set_xlabel(\"Age Groups\")\n",
        "ax.set_ylabel(\"Amount of Attacks\")\n",
        "ax.set_title(\"Shark Attacks per Age Group\")\n",
        "ax.legend()\n",
        "ax.grid(axis=\"y\")\n",
        "\n",
        "# Show the plot\n",
        "plt.show()"
      ],
      "metadata": {
        "colab": {
          "base_uri": "https://localhost:8080/",
          "height": 410
        },
        "id": "pXQGY354QJzU",
        "outputId": "30da9331-e601-4311-aecb-5808969ebb30"
      },
      "execution_count": 128,
      "outputs": [
        {
          "output_type": "display_data",
          "data": {
            "text/plain": [
              "<Figure size 620x400 with 1 Axes>"
            ],
            "image/png": "[encoded data removed]"
          },
          "metadata": {}
        }
      ]
    },
    {
      "cell_type": "markdown",
      "source": [
        "# Conclusion: \n",
        "No, children are not more likely to be attacked by sharks. \n",
        "Even when you combine all people under 18 into one group they are still being attacked way less then adults.\n",
        "\n",
        "Teenagers are more likely to be attacked by a sharks then children under 13 years old.\n",
        "\n",
        "\n",
        "---\n",
        "\n",
        "\n"
      ],
      "metadata": {
        "id": "8sjEYuJnYsax"
      }
    },
    {
      "cell_type": "markdown",
      "source": [
        "# Question 3: Are shark attacks where sharks were provoked more or less dangerous?\n",
        "\n",
        "It is not enough to just look at the absolute counts.\n",
        "Because since there are more unprovoked than provoked attacks it would not be surprising that there are more fatal outcomes for unprovoked attackss than for provoked attacks.\n",
        "Therefore it is better to look at the proportions. Or, just as with the shark species: the fatality rate.\n",
        "What percentage of provoked attacks was fatal and what percentage of unprovoked attacks was fatal?\n",
        "\n",
        "\n",
        "---\n",
        "\n"
      ],
      "metadata": {
        "id": "lSjfOuaiaHzv"
      }
    },
    {
      "cell_type": "markdown",
      "source": [
        "First: compare to see if I can use the group where both the outcome and the type is confirmed"
      ],
      "metadata": {
        "id": "pW4L4_qqx7UL"
      }
    },
    {
      "cell_type": "code",
      "source": [
        "compare_columns(shark_attacks, \"Type\", \"Outcome\")"
      ],
      "metadata": {
        "colab": {
          "base_uri": "https://localhost:8080/"
        },
        "id": "zIq1Ygm0z8OF",
        "outputId": "51ecf201-bd01-495e-ca05-d6eb67944316"
      },
      "execution_count": 129,
      "outputs": [
        {
          "output_type": "stream",
          "name": "stdout",
          "text": [
            "The amount of rows with a confirmed value in column Type is: 5169\n",
            "The amount of rows with a confirmed value in both column Type and Outcome is:  5099\n",
            "There are 70 rows where the Type is confirmed but Outcome is not \n"
          ]
        }
      ]
    },
    {
      "cell_type": "markdown",
      "source": [
        "I feel confident I can use these two groups together.\n",
        "\n",
        "\n",
        "---\n",
        "\n"
      ],
      "metadata": {
        "id": "kgsSi0A5yChX"
      }
    },
    {
      "cell_type": "code",
      "source": [
        "# Selecting only the rows where both type and outcome are confirmed: \n",
        "question_three_mask = (shark_attacks[\"Type\"].notnull()) & (shark_attacks[\"Outcome\"].notnull())\n",
        "question_three_df = shark_attacks[question_three_mask]"
      ],
      "metadata": {
        "id": "lREhJ9JSyNM-"
      },
      "execution_count": 130,
      "outputs": []
    },
    {
      "cell_type": "code",
      "source": [
        "# Attack count per type.\n",
        "total_type = question_three_df[\"Type\"].value_counts()\n",
        "\n",
        "# Fatal attacks for each type.\n",
        "fatal_type = question_three_df.loc[question_three_df[\"Outcome\"] == \"fatal\", \"Type\"].value_counts()\n",
        "\n",
        "# Fatality rate per type.\n",
        "fatality_type = (fatal_type/total_type) * 100"
      ],
      "metadata": {
        "id": "9gzU3L5donLk"
      },
      "execution_count": 108,
      "outputs": []
    },
    {
      "cell_type": "code",
      "source": [
        "# Create the figure and the plots\n",
        "fig, ax = plt.subplots(figsize=(6.2, 4))\n",
        "\n",
        "# Bars\n",
        "ax.barh(fatality_type.index, fatality_type, label=\"Fatality Rate (%)\")\n",
        "\n",
        "# Set cosmetics\n",
        "ax.set_xlabel(\"Fatality Rate (%)\")\n",
        "ax.set_ylabel(\"Attack Type\")\n",
        "ax.set_title(\"Which Type of Shark Attack is More Often Fatal?\")\n",
        "ax.legend()\n",
        "ax.grid(axis= \"x\")\n",
        "\n",
        "# Show the plot\n",
        "plt.show()"
      ],
      "metadata": {
        "colab": {
          "base_uri": "https://localhost:8080/",
          "height": 410
        },
        "id": "AhnRWvZVmw3F",
        "outputId": "c734bd2e-ce77-4bd4-90a0-0c8b103e55a3"
      },
      "execution_count": 135,
      "outputs": [
        {
          "output_type": "display_data",
          "data": {
            "text/plain": [
              "<Figure size 620x400 with 1 Axes>"
            ],
            "image/png": "[encoded data removed]"
          },
          "metadata": {}
        }
      ]
    },
    {
      "cell_type": "markdown",
      "source": [
        "# Conclusion: \n",
        "\n",
        "A bit more than 25% of unprovoked attacks had a fatal outcome.\n",
        "3% Of the provoked attacks had a fatal outcome.\n",
        "\n",
        "That means that an unprovoked attack could be seen as more dangerous than a provoked attack.\n",
        "\n",
        "I first was surprised by this since my first thought was that most sharks are not that agressive at all.\n",
        "However, one could argue that a provoked attack has more often the purpose of defence, where an unprovoked attack has a higher chance of having a purpose of offence."
      ],
      "metadata": {
        "id": "ewqCzvmh7yAY"
      }
    },
    {
      "cell_type": "markdown",
      "source": [
        "# Question 4: Are certain activities more likely to result in a shark attack?\n",
        "\n",
        "Even though it is not the question I am also curious about the fatality of the different activities.\n",
        "I will compare them first to see if it is any use looking at them together."
      ],
      "metadata": {
        "id": "b8Xh2l-kDvLM"
      }
    },
    {
      "cell_type": "code",
      "source": [
        "compare_columns(shark_attacks, \"Activity\", \"Outcome\")"
      ],
      "metadata": {
        "colab": {
          "base_uri": "https://localhost:8080/"
        },
        "id": "Ms3qgXz50Kfk",
        "outputId": "0484b6d3-130c-473b-d9fb-93f64c80f3ff"
      },
      "execution_count": 110,
      "outputs": [
        {
          "output_type": "stream",
          "name": "stdout",
          "text": [
            "The amount of rows with a confirmed value in column Activity is: 5755\n",
            "The amount of rows with a confirmed value in both column Activity and Outcome is:  5305\n",
            "There are 450 rows where the Activity is confirmed but Outcome is not \n"
          ]
        }
      ]
    },
    {
      "cell_type": "markdown",
      "source": [
        "That is a bit of a bigger difference than I like. \n",
        "But what I can do to check further is see what happens when I only look at the top ten activities, since that is what I am working with anyway."
      ],
      "metadata": {
        "id": "bt_JzbOQ0TfP"
      }
    },
    {
      "cell_type": "code",
      "source": [
        "# Top ten activities when looking at total attacks\n",
        "total_activities = shark_attacks[\"Activity\"].value_counts()\n",
        "top_activities = total_activities.sort_values(ascending=False).head(10)\n",
        "\n",
        "# Put those in a list so I can select only the rows with those values \n",
        "top_act_list = top_activities.index.tolist()\n",
        "\n",
        "filtered_df = shark_attacks[shark_attacks[\"Activity\"].isin(top_act_list)]"
      ],
      "metadata": {
        "id": "3se3OUxD8CdM"
      },
      "execution_count": 111,
      "outputs": []
    },
    {
      "cell_type": "code",
      "source": [
        "compare_columns(filtered_df, \"Activity\", \"Outcome\")"
      ],
      "metadata": {
        "colab": {
          "base_uri": "https://localhost:8080/"
        },
        "id": "NUxw16WF2bj0",
        "outputId": "1b996db8-098a-42d9-b455-b2706b54ed46"
      },
      "execution_count": 113,
      "outputs": [
        {
          "output_type": "stream",
          "name": "stdout",
          "text": [
            "The amount of rows with a confirmed value in column Activity is: 4717\n",
            "The amount of rows with a confirmed value in both column Activity and Outcome is:  4367\n",
            "There are 350 rows where the Activity is confirmed but Outcome is not \n"
          ]
        }
      ]
    },
    {
      "cell_type": "markdown",
      "source": [
        "Not much better... Since the original question is not about the fatality I will \n",
        "answer that question first using the whole dataframe. \n",
        "\n",
        "And then I will check about the fatality for funsies using the rows where both columns have confirmed values. It would make the dataset a bit smaller but still not completely useless.\n",
        "Just to satify my curiousity!"
      ],
      "metadata": {
        "id": "QF0pvE0133wP"
      }
    },
    {
      "cell_type": "code",
      "source": [
        "# Create the figure and the plots\n",
        "fig, ax = plt.subplots(figsize=(6.2, 4))\n",
        "\n",
        "# Bars\n",
        "ax.bar(top_activities.index, top_activities, label=\"Activity\")\n",
        "\n",
        "# Set cosmetics\n",
        "ax.set_xlabel(\"Activity\")\n",
        "ax.set_ylabel(\"Amount of attacks\")\n",
        "ax.set_title(\"What activities lead to the most shark attacks?\")\n",
        "ax.legend()\n",
        "ax.grid(axis= \"y\")\n",
        "ax.set_xticks(top_activities.index)\n",
        "ax.set_xticklabels(top_activities.index, rotation=45, ha=\"right\")\n",
        "\n",
        "# Show the plot\n",
        "plt.show()"
      ],
      "metadata": {
        "id": "HNtB4_Q0tqm9",
        "colab": {
          "base_uri": "https://localhost:8080/",
          "height": 474
        },
        "outputId": "fd2dd0b6-0102-4fb5-d0f1-774384440c88"
      },
      "execution_count": 138,
      "outputs": [
        {
          "output_type": "display_data",
          "data": {
            "text/plain": [
              "<Figure size 620x400 with 1 Axes>"
            ],
            "image/png": "[encoded data removed]"
          },
          "metadata": {}
        }
      ]
    }
  ]
}