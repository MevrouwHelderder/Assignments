{
  "nbformat": 4,
  "nbformat_minor": 0,
  "metadata": {
    "colab": {
      "provenance": [],
      "authorship_tag": "ABX9TyMLTZ8QABB0nRrwf5DKbB24",
      "include_colab_link": true
    },
    "kernelspec": {
      "name": "python3",
      "display_name": "Python 3"
    },
    "language_info": {
      "name": "python"
    }
  },
  "cells": [
    {
      "cell_type": "markdown",
      "metadata": {
        "id": "view-in-github",
        "colab_type": "text"
      },
      "source": [
        "<a href=\"https://colab.research.google.com/github/MevrouwHelderder/Assignments/blob/main/Final_Assignment.ipynb\" target=\"_parent\"><img src=\"https://colab.research.google.com/assets/colab-badge.svg\" alt=\"Open In Colab\"/></a>"
      ]
    },
    {
      "cell_type": "markdown",
      "source": [
        "This is your final assignment. You'll get a lot of freedom in doing this assignment but that also means you have to make choices and explain the reasoning behind those choices in your report.\n",
        "\n",
        "For this assignment you can use any dataset you can find from the [Our World in Data website](https://ourworldindata.org/).\n",
        "\n",
        "Please formulate an answer to the following three questions in your report.\n",
        "\n",
        "* **What is the biggest predictor of a large CO2 output per capita of a country?**\n",
        "* **which countries are making the biggest strides in decreasing CO2 output?**\n",
        "* **which non-fossil fuel energy technology will have the best price in the future?**\n",
        "\n",
        "\n",
        "\n",
        "\n",
        "---\n",
        "\n",
        "\n",
        "**1: Biggest predictor of CO2 output**\n",
        "\n",
        "To determine this you may want to consider things like GDP per capita, diets, number of cars per capita, various energy source, mobility and other factors.\n",
        "\n",
        "Your answer can also be a specific combination of certain factors.\n",
        "\n",
        "\n",
        "---\n",
        "\n",
        "\n",
        "**2: Biggest strides in decreasing CO2 output**\n",
        "\n",
        "You'll need to find the relative CO2 output for each country to be able to calculate this. But countries can have growing and shrinking populations too, so it's probably a good idea to take this into account as well.\n",
        "\n",
        "\n",
        "---\n",
        "\n",
        "\n",
        "**3: Best future price for non-fossil fuel energy**\n",
        "\n",
        "To be able to predict prices you'll probably need to use linear regression over the various non-fossil fuel options.\n",
        "\n",
        "\n",
        "---\n",
        "\n",
        "\n",
        "**Submitting your Assignment**\n",
        "\n",
        "Once you're done with this module, you can go to the next item where you'll be able to submit your assignment.\n",
        "\n",
        "Please submit both your written report and all notebooks you've created in creating the report. Make sure everything works before submitting.\n",
        "\n"
      ],
      "metadata": {
        "id": "Gijm5ENpY31P"
      }
    },
    {
      "cell_type": "code",
      "execution_count": null,
      "metadata": {
        "id": "3GgHuk58Y1xf"
      },
      "outputs": [],
      "source": []
    }
  ]
}