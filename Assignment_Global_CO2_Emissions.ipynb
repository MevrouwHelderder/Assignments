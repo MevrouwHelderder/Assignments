{
  "nbformat": 4,
  "nbformat_minor": 0,
  "metadata": {
    "colab": {
      "provenance": [],
      "authorship_tag": "ABX9TyO/5WazAkP9NX9JTBCBPIqC",
      "include_colab_link": true
    },
    "kernelspec": {
      "name": "python3",
      "display_name": "Python 3"
    },
    "language_info": {
      "name": "python"
    }
  },
  "cells": [
    {
      "cell_type": "markdown",
      "metadata": {
        "id": "view-in-github",
        "colab_type": "text"
      },
      "source": [
        "<a href=\"https://colab.research.google.com/github/MevrouwHelderder/Assignments/blob/main/Assignment_Global_CO2_Emissions.ipynb\" target=\"_parent\"><img src=\"https://colab.research.google.com/assets/colab-badge.svg\" alt=\"Open In Colab\"/></a>"
      ]
    },
    {
      "cell_type": "markdown",
      "source": [
        "**For this assignment you're going to make several graphs based on a single dataset.**\n",
        "\n",
        "The dataset we're using will be the first table of this Wikipedia page on carbon dioxide emissions(https://en.wikipedia.org/wiki/List_of_countries_by_carbon_dioxide_emissions) .\n",
        "\n",
        "Reading in the table as-is will produce a \"MultiIndex\" dataframe. By renaming all columns you can convert it into a non-MultiIndex dataframe.\n",
        "\n",
        "Use slicing and/or boolean masks to filter out the rows in this table that aren't countries."
      ],
      "metadata": {
        "id": "8sWIs_CI1DJt"
      }
    },
    {
      "cell_type": "markdown",
      "source": [
        "**Graph 1: CO2 of the bigger countries**\n",
        "Make a graph of the CO2 emissions of the 5 biggest CO2 producers in the world (based on the latest measurement). The x-axis should be the years of 1990, 2005 and 2017. If newer datapoints are added in the future please include them as well. The y-axis should represent the fossil CO2 emissions in Mt CO2 for the given years. "
      ],
      "metadata": {
        "id": "ZtmJFz8k1SqZ"
      }
    },
    {
      "cell_type": "markdown",
      "source": [
        "**Graph 2: worst and best changers**\n",
        "\n",
        "Because of climate change it's important that we curb our carbon dioxide emissions. So some countries will have lowered their emissions while others may have increased their emissions. Some countries will have better results in doing this than others. If we calculate the relative change and sort by that change we'll get a list with countries that are changing for the better at one end and countries that are changing less well on the other end.\n",
        "\n",
        "Find the top three and bottom three countries with regards to lowering these emissions and plot their results.\n",
        "\n",
        "---\n",
        "  **Note**\n",
        "\n",
        "  If you want to add a new column to a dataframe you can do that like this:\n",
        "  df['example'] = df.loc[:,'column_a'] + df.loc[:,'column_b']\n",
        "\n",
        "---\n",
        "\n",
        "*   The x-axis should have be the years of 1990, 2005 and 2017. \n",
        "*   If newer datapoints are added in the future please include them as well.\n",
        "*   The y-axis should represent the relative amount of CO2 emitted where the    measurement in 1990 is 100%.\n",
        "---\n",
        "\n",
        "**An example:** Afghanistan emitted 2546Mt of CO2 in 1990 (which is the 100%). The relative amount in 2005 would be 1063/2546 * 100 = 41.75%. The relative amount in 2017 would be 11.422/2546 * 100 = 448.62%. So if Afghanistan is on the chart the line would go down first and then back up again.\n",
        "\n",
        "You may get some really small countries if you look at the relative change. This can distort the chart a lot. \n",
        "\n",
        "To create a more useful chart: now create the same chart for all countries that had at least five Mt of CO2 emissions in 1990.\n"
      ],
      "metadata": {
        "id": "GYr4f6n11T3p"
      }
    }
  ]
}